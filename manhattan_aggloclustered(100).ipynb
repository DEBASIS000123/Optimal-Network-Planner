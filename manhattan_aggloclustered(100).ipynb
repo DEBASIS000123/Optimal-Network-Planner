{
 "cells": [
  {
   "cell_type": "code",
   "execution_count": 3,
   "id": "5447fb9d-ad68-4bcc-9eac-6c0d1ed4e0ef",
   "metadata": {},
   "outputs": [],
   "source": [
    "from sklearn.cluster import AgglomerativeClustering\n",
    "from sklearn.metrics import pairwise_distances\n",
    "import pandas as pd"
   ]
  },
  {
   "cell_type": "code",
   "execution_count": 4,
   "id": "b0b9ffbd-2430-45e9-9c50-058270817a05",
   "metadata": {},
   "outputs": [
    {
     "name": "stderr",
     "output_type": "stream",
     "text": [
      "C:\\Users\\hp\\AppData\\Local\\Temp\\ipykernel_4852\\3260983468.py:1: DtypeWarning: Columns (1,2) have mixed types. Specify dtype option on import or set low_memory=False.\n",
      "  data=pd.read_csv(\"D:/SupplementaryMaterial.csv\");\n"
     ]
    }
   ],
   "source": [
    "data=pd.read_csv(\"D:/SupplementaryMaterial.csv\");\n",
    "features = data[['Longitude','Latitude', 'Serving RSSI_4G']]"
   ]
  },
  {
   "cell_type": "code",
   "execution_count": 5,
   "id": "a471627e-6beb-4865-b343-4ad7d75262b5",
   "metadata": {},
   "outputs": [
    {
     "name": "stdout",
     "output_type": "stream",
     "text": [
      "       Longitude  Latitude\n",
      "0       3.502389  6.437201\n",
      "1       3.502389  6.437201\n",
      "2       3.502389  6.437201\n",
      "3       3.502389  6.437201\n",
      "4       3.502389  6.437201\n",
      "...          ...       ...\n",
      "42493   3.415840  6.436213\n",
      "42494   3.415840  6.436213\n",
      "42495   3.415840  6.436213\n",
      "42496   3.415840  6.436213\n",
      "42497   3.415965  6.436205\n",
      "\n",
      "[42498 rows x 2 columns]\n"
     ]
    },
    {
     "name": "stderr",
     "output_type": "stream",
     "text": [
      "C:\\Users\\hp\\AppData\\Local\\Temp\\ipykernel_4852\\4211907726.py:1: SettingWithCopyWarning: \n",
      "A value is trying to be set on a copy of a slice from a DataFrame\n",
      "\n",
      "See the caveats in the documentation: https://pandas.pydata.org/pandas-docs/stable/user_guide/indexing.html#returning-a-view-versus-a-copy\n",
      "  features.replace('\\t', pd.NA, inplace=True)\n",
      "C:\\Users\\hp\\AppData\\Local\\Temp\\ipykernel_4852\\4211907726.py:2: SettingWithCopyWarning: \n",
      "A value is trying to be set on a copy of a slice from a DataFrame\n",
      "\n",
      "See the caveats in the documentation: https://pandas.pydata.org/pandas-docs/stable/user_guide/indexing.html#returning-a-view-versus-a-copy\n",
      "  features.replace('', pd.NA, inplace=True)\n"
     ]
    }
   ],
   "source": [
    "features.replace('\\t', pd.NA, inplace=True)\n",
    "features.replace('', pd.NA, inplace=True)\n",
    "features = features.apply(pd.to_numeric, errors='coerce')\n",
    "\n",
    "cdata = features[['Longitude','Latitude']]\n",
    "print(cdata)"
   ]
  },
  {
   "cell_type": "code",
   "execution_count": 6,
   "id": "a8197392-1864-43bc-9bfb-31aa3b06e306",
   "metadata": {},
   "outputs": [],
   "source": [
    "#Doing manhattan agglomerative clustering of the cdata file \n",
    "cdata_clean = cdata.dropna()\n",
    "agg_clustering = AgglomerativeClustering(\n",
    "    n_clusters=100,\n",
    "    metric='manhattan',\n",
    "    linkage='complete'\n",
    ")\n",
    "labels = agg_clustering.fit_predict(cdata_clean)"
   ]
  },
  {
   "cell_type": "code",
   "execution_count": 7,
   "id": "40318929-a157-40d0-83e8-e7fe2f925dfb",
   "metadata": {},
   "outputs": [
    {
     "name": "stdout",
     "output_type": "stream",
     "text": [
      "       Longitude  Latitude  Serving RSSI_4G  cluster\n",
      "0       3.502389  6.437201           -39.56     23.0\n",
      "1       3.502389  6.437201           -39.88     23.0\n",
      "2       3.502389  6.437201           -38.38     23.0\n",
      "3       3.502389  6.437201           -36.63     23.0\n",
      "4       3.502389  6.437201           -37.81     23.0\n",
      "...          ...       ...              ...      ...\n",
      "42493   3.415840  6.436213              NaN     58.0\n",
      "42494   3.415840  6.436213              NaN     58.0\n",
      "42495   3.415840  6.436213              NaN     58.0\n",
      "42496   3.415840  6.436213              NaN     58.0\n",
      "42497   3.415965  6.436205           -58.88     58.0\n",
      "\n",
      "[42498 rows x 4 columns]\n"
     ]
    },
    {
     "name": "stderr",
     "output_type": "stream",
     "text": [
      "C:\\Users\\hp\\AppData\\Local\\Temp\\ipykernel_4852\\1623597343.py:1: SettingWithCopyWarning: \n",
      "A value is trying to be set on a copy of a slice from a DataFrame.\n",
      "Try using .loc[row_indexer,col_indexer] = value instead\n",
      "\n",
      "See the caveats in the documentation: https://pandas.pydata.org/pandas-docs/stable/user_guide/indexing.html#returning-a-view-versus-a-copy\n",
      "  cdata_clean['cluster'] = labels\n"
     ]
    }
   ],
   "source": [
    "cdata_clean['cluster'] = labels\n",
    "\n",
    "features['cluster'] = pd.Series(labels, index=cdata_clean.index)\n",
    "print(features)"
   ]
  },
  {
   "cell_type": "code",
   "execution_count": null,
   "id": "1043cb5d-20ec-4729-b16b-37b0104d79f8",
   "metadata": {},
   "outputs": [],
   "source": [
    "features = features.dropna()\n",
    "\n",
    "file_path = \"D:/Manhattan_aggoclustered_data100.csv\"\n",
    "features.to_csv(file_path, index=False)"
   ]
  }
 ],
 "metadata": {
  "kernelspec": {
   "display_name": "Python 3 (ipykernel)",
   "language": "python",
   "name": "python3"
  },
  "language_info": {
   "codemirror_mode": {
    "name": "ipython",
    "version": 3
   },
   "file_extension": ".py",
   "mimetype": "text/x-python",
   "name": "python",
   "nbconvert_exporter": "python",
   "pygments_lexer": "ipython3",
   "version": "3.12.2"
  }
 },
 "nbformat": 4,
 "nbformat_minor": 5
}
